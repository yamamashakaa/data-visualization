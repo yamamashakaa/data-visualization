{
 "cells": [
  {
   "cell_type": "markdown",
   "metadata": {},
   "source": [
    "# Part II - (Ford GoBike System Data Analysis)\n",
    "## by (Yamama  Shakaa)"
   ]
  },
  {
   "cell_type": "markdown",
   "metadata": {},
   "source": [
    "## Investigation Overview\n",
    "\n",
    "\n",
    "> The analysis highlights several trends in bike usage among subscribers and non-subscribers. Subscribers take significantly more rides than non-subscribers, with most rides taken by individuals aged 30 to 40. The average ride lasts six minutes and is typically under one hour. Interestingly, non-subscribers tend to spend longer on a single ride compared to subscribers, who often use bikes for shorter journeys. Thursdays see the highest number of rides, while weekends experience the least activity. There is a direct relationship between age and ride duration for those under 50, but this reverses after age 50, with older individuals spending less time on rides. The age distribution for both genders is similar, with most individuals aged under 44. Many riders with unspecified gender are non-subscribers, indicating a reluctance to provide complete information. Lastly, there are more male subscribers than female subscribers.\n",
    "\n",
    "## Dataset Overview and Executive Summary\n",
    "\n",
    "> The Ford GoBike dataset is a collection of data related to bike-sharing rides in the San Francisco Bay Area. It includes information about the usage patterns of bikes provided by Ford GoBike, a bike-sharing service, and typically contains various attributes that describe each ride. The dataset has records for 183412 individual rides and 16 different features.  \n",
    "\n",
    "My visualizations will show the following :\n",
    "\n",
    "1. Number of rides taken by subscribers is way more than rides taken by customers who do not have subscription\n",
    "2.  The majority of the rides were taken by people aged between 30 and 40. The number of rides by people over 60 is the least.\n",
    "3. The majority of rides lasts less than one hour. 6 miniutes is the average of rides\n",
    "4. Unsubscribed customers (non-members) tend to spend a longer duration on a single ride compared to subscribers. This suggests that subscribers typically use the bike for any journey even if it is short, while non-members often take the bike for long rides.\n",
    "\n",
    "5.The highest number of rides were taken on Thursday. Number of rides in the weekend(Saturday and Sunday) is the least\n",
    "\n",
    "6.There is adirect relationship between age and ride duration for individuals under 50, with people in their 40s spending more time on a single ride compared to those in their 20s. However, after age 50, this trend reverses. As age increases, ride duration decreases, with the shortest durations observed among individuals over 80\n",
    "\n",
    "7.The age distribution for males and females is quite similar. Fifty percent of males are under 37 years old, while fifty percent of females are under 35 years old. Additionally, 75% of males fall under the age of 44, compared to 75% of females who are under 42\n",
    "\n",
    "8.Most individuals with unspecified gender are unsbscribed customers. Looks like many non-members don't prefer to provide all their infomation including gender\n",
    " \n",
    "9.Male subscribers are more than female subscribers\n",
    "\n",
    "\n"
   ]
  },
  {
   "cell_type": "code",
   "execution_count": 1,
   "metadata": {},
   "outputs": [],
   "source": [
    "# import all packages and set plots to be embedded inline\n",
    "import numpy as np\n",
    "import pandas as pd\n",
    "import matplotlib.pyplot as plt\n",
    "import seaborn as sns\n",
    "\n",
    "# suppress warnings from final output\n",
    "import warnings\n",
    "warnings.simplefilter(\"ignore\")"
   ]
  },
  {
   "cell_type": "markdown",
   "metadata": {},
   "source": [
    "## Distrbution of bike rides across age groups\n",
    "\n",
    "> This visualization shows the distribution of rides among age groups. It shows that the majority of the rides were taken by people aged between 30 and 40. The number of rides by people over 60 is the least."
   ]
  },
  {
   "cell_type": "markdown",
   "metadata": {},
   "source": [
    "![My Image](age_group.png)"
   ]
  },
  {
   "cell_type": "markdown",
   "metadata": {},
   "source": [
    "## Ride Count by Day of the Week\n",
    "\n",
    "> This visualization shows that The highest number of rides were taken on Thursday. Number of rides in the weekend(Saturday and Sunday) is the least"
   ]
  },
  {
   "cell_type": "markdown",
   "metadata": {},
   "source": [
    "![My Image](day.png)"
   ]
  },
  {
   "cell_type": "markdown",
   "metadata": {},
   "source": [
    "## Distribution of Ride duration in hours by user type\n",
    "\n",
    "> This visualization shows Unsubscribed customers tend to ride longer in the single ride compared to the subscribers, who use the service more frequently. his suggests that subscribers typically use the bike for any journey even if it is short, while non-members often take the bike for long rides."
   ]
  },
  {
   "cell_type": "markdown",
   "metadata": {},
   "source": [
    "![My Image](ride_duration_.png)"
   ]
  },
  {
   "cell_type": "markdown",
   "metadata": {},
   "source": [
    "## Relationship between age and ride duration in hours\n",
    ">There is adirect relationship between age and ride duration for individuals under 50, with people in their 40s spending more time on a single ride compared to those in their 20s. However, after age 50, this trend reverses. As age increases, ride duration decreases, with the shortest durations observed among individuals over 80"
   ]
  },
  {
   "cell_type": "markdown",
   "metadata": {},
   "source": [
    "![My Image](reg_age_duration.png)"
   ]
  },
  {
   "cell_type": "markdown",
   "metadata": {},
   "source": [
    "### Distribution of duration in hours across member gender and User Types\n",
    "> The visualization shows that most individuals with unspecified gender are unsbscribed customers. This suggest that many non-members don't prefer to provide all their infomation including gender. \n",
    "The intense of the orange in the male plot shows that male subscribers are more than female subscribers\n"
   ]
  },
  {
   "cell_type": "markdown",
   "metadata": {},
   "source": [
    "![My Image](duration_gender.png)"
   ]
  }
 ],
 "metadata": {
  "kernelspec": {
   "display_name": "Python 3 (ipykernel)",
   "language": "python",
   "name": "python3"
  },
  "language_info": {
   "codemirror_mode": {
    "name": "ipython",
    "version": 3
   },
   "file_extension": ".py",
   "mimetype": "text/x-python",
   "name": "python",
   "nbconvert_exporter": "python",
   "pygments_lexer": "ipython3",
   "version": "3.10.13"
  }
 },
 "nbformat": 4,
 "nbformat_minor": 2
}
